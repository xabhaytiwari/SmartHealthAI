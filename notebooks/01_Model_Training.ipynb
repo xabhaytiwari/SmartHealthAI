{
 "cells": [
  {
   "cell_type": "code",
   "execution_count": null,
   "id": "13f1141f",
   "metadata": {},
   "outputs": [],
   "source": [
    "import sys\n",
    "import os\n",
    "sys.path.append(os.path.abspath(\"..\"))  # adds the parent dir to sys.path\n",
    "\n",
    "from sklearn.ensemble import RandomForestClassifier\n",
    "from sklearn.model_selection import train_test_split\n",
    "from sklearn.metrics import classification_report\n",
    "from preprocessing.data_prep import prepare_symptom_data\n",
    "\n",
    "X, y, symptoms = prepare_symptom_data(\"../data/DiseaseAndSymptoms.csv\")\n"
   ]
  },
  {
   "cell_type": "code",
   "execution_count": 4,
   "id": "636d474d",
   "metadata": {},
   "outputs": [
    {
     "name": "stdout",
     "output_type": "stream",
     "text": [
      "                                         precision    recall  f1-score   support\n",
      "\n",
      "(vertigo) Paroymsal  Positional Vertigo       1.00      1.00      1.00        26\n",
      "                                   AIDS       1.00      1.00      1.00        36\n",
      "                                   Acne       1.00      1.00      1.00        26\n",
      "                    Alcoholic hepatitis       1.00      1.00      1.00        19\n",
      "                                Allergy       1.00      1.00      1.00        23\n",
      "                              Arthritis       1.00      1.00      1.00        21\n",
      "                       Bronchial Asthma       1.00      1.00      1.00        18\n",
      "                   Cervical spondylosis       1.00      1.00      1.00        24\n",
      "                            Chicken pox       1.00      1.00      1.00        20\n",
      "                    Chronic cholestasis       1.00      1.00      1.00        23\n",
      "                            Common Cold       1.00      1.00      1.00        20\n",
      "                                 Dengue       1.00      1.00      1.00        28\n",
      "                              Diabetes        1.00      1.00      1.00        31\n",
      "           Dimorphic hemmorhoids(piles)       1.00      1.00      1.00        22\n",
      "                          Drug Reaction       1.00      1.00      1.00        34\n",
      "                       Fungal infection       1.00      1.00      1.00        18\n",
      "                                   GERD       1.00      1.00      1.00        20\n",
      "                        Gastroenteritis       1.00      1.00      1.00        29\n",
      "                           Heart attack       1.00      1.00      1.00        27\n",
      "                            Hepatitis B       1.00      1.00      1.00        17\n",
      "                            Hepatitis C       1.00      1.00      1.00        21\n",
      "                            Hepatitis D       1.00      1.00      1.00        25\n",
      "                            Hepatitis E       1.00      1.00      1.00        27\n",
      "                          Hypertension        1.00      1.00      1.00        29\n",
      "                        Hyperthyroidism       1.00      1.00      1.00        20\n",
      "                           Hypoglycemia       1.00      1.00      1.00        15\n",
      "                         Hypothyroidism       1.00      1.00      1.00        21\n",
      "                               Impetigo       1.00      1.00      1.00        23\n",
      "                               Jaundice       1.00      1.00      1.00        23\n",
      "                                Malaria       1.00      1.00      1.00        28\n",
      "                               Migraine       1.00      1.00      1.00        25\n",
      "                        Osteoarthristis       1.00      1.00      1.00        25\n",
      "           Paralysis (brain hemorrhage)       1.00      1.00      1.00        24\n",
      "                    Peptic ulcer diseae       1.00      1.00      1.00        21\n",
      "                              Pneumonia       1.00      1.00      1.00        22\n",
      "                              Psoriasis       1.00      1.00      1.00        30\n",
      "                           Tuberculosis       1.00      1.00      1.00        19\n",
      "                                Typhoid       1.00      1.00      1.00        31\n",
      "                Urinary tract infection       1.00      1.00      1.00        27\n",
      "                         Varicose veins       1.00      1.00      1.00        27\n",
      "                            hepatitis A       1.00      1.00      1.00        19\n",
      "\n",
      "                               accuracy                           1.00       984\n",
      "                              macro avg       1.00      1.00      1.00       984\n",
      "                           weighted avg       1.00      1.00      1.00       984\n",
      "\n"
     ]
    }
   ],
   "source": [
    "X_train, X_test, y_train, y_test = train_test_split(X, y, test_size=0.2)\n",
    "model = RandomForestClassifier()\n",
    "model.fit(X_train, y_train)\n",
    "\n",
    "print(classification_report(y_test, model.predict(X_test)))\n"
   ]
  },
  {
   "cell_type": "code",
   "execution_count": 5,
   "id": "f052bf2c",
   "metadata": {},
   "outputs": [],
   "source": [
    "import pickle\n",
    "pickle.dump(model, open('../models/symptom_model.pkl', 'wb'))\n",
    "pickle.dump(symptoms, open('../models/symptom_list.pkl', 'wb'))\n"
   ]
  }
 ],
 "metadata": {
  "kernelspec": {
   "display_name": ".venv",
   "language": "python",
   "name": "python3"
  },
  "language_info": {
   "codemirror_mode": {
    "name": "ipython",
    "version": 3
   },
   "file_extension": ".py",
   "mimetype": "text/x-python",
   "name": "python",
   "nbconvert_exporter": "python",
   "pygments_lexer": "ipython3",
   "version": "3.13.3"
  }
 },
 "nbformat": 4,
 "nbformat_minor": 5
}
